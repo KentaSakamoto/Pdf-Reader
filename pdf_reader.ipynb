{
 "cells": [
  {
   "cell_type": "code",
   "execution_count": 1,
   "metadata": {},
   "outputs": [],
   "source": [
    "# from bs4 import BeautifulSoup\n",
    "# import urllib.request as req\n",
    "# import urllib\n",
    "# import os\n",
    "# import time\n",
    "# from urllib.parse import urljoin"
   ]
  },
  {
   "cell_type": "code",
   "execution_count": 2,
   "metadata": {},
   "outputs": [],
   "source": [
    "# # サイトのHTMLを取得・aタグを抜き出す\n",
    "# url = \"あなたの調べたいURL\" \n",
    "# res = req.urlopen(url) \n",
    "# soup = BeautifulSoup(res, \"html.parser\") \n",
    "# result = soup.select(\"a[href]\") \n",
    "# print(result)"
   ]
  },
  {
   "cell_type": "code",
   "execution_count": 3,
   "metadata": {},
   "outputs": [],
   "source": [
    "# # aタグからリンクだけを抽出\n",
    "# link_list =[] \n",
    "# for link in result: \n",
    "#     href = link.get(\"href\") \n",
    "#     link_list.append(href) \n",
    "# print(link_list)"
   ]
  },
  {
   "cell_type": "code",
   "execution_count": 4,
   "metadata": {},
   "outputs": [],
   "source": [
    "# # 「.pdf」で終わるものについてのみ取得\n",
    "# pdf_list = [temp for temp in link_list if temp.endswith('pdf')]\n",
    "# print(pdf_list)"
   ]
  },
  {
   "cell_type": "code",
   "execution_count": 5,
   "metadata": {},
   "outputs": [],
   "source": [
    "# # 特定の文字を含むpdfのみを取得\n",
    "# math_list = [temp for temp in pdf_list if 'ここにあなたの取得したいpdf特有の文字列を入れる' in temp]\n",
    "# print(math_list)"
   ]
  },
  {
   "cell_type": "code",
   "execution_count": 6,
   "metadata": {},
   "outputs": [],
   "source": [
    "# # 相対URLから絶対URLに変換\n",
    "# abs_dbpdf_list = []\n",
    "# for relative in math_list:\n",
    "#     temp_url = urljoin(url, relative)\n",
    "#     abs_dbpdf_list.append(temp_url)\n",
    "# print(abs_dbpdf_list)"
   ]
  },
  {
   "cell_type": "code",
   "execution_count": 7,
   "metadata": {},
   "outputs": [],
   "source": [
    "# # URLからファイル名を取得\n",
    "# filename_list = []\n",
    "# for target in abs_dbpdf_list:\n",
    "#     temp_list = target.split(\"/\")\n",
    "#     filename_list.append(temp_list[len(temp_list)-1])\n",
    "# print(filename_list)"
   ]
  },
  {
   "cell_type": "code",
   "execution_count": 8,
   "metadata": {},
   "outputs": [],
   "source": [
    "# # 保存先のディレクトリを作成\n",
    "# target_dir = \"あなたの保存したいディレクトリを記載する\"\n",
    "# savepath_list = []\n",
    "# for filename in filename_list:\n",
    "#     savepath_list.append(os.path.join(target_dir, filename))\n",
    "# print(savepath_list)"
   ]
  },
  {
   "cell_type": "code",
   "execution_count": 9,
   "metadata": {},
   "outputs": [],
   "source": [
    "# # ダウンロード実行\n",
    "# for (pdflink, savepath) in zip(abs_dbpdf_list, savepath_list):\n",
    "#     urllib.request.urlretrieve(pdflink, savepath)\n",
    "#     time.sleep(3)"
   ]
  },
  {
   "cell_type": "markdown",
   "metadata": {},
   "source": [
    "# 参考\n",
    "https://degitalization.hatenablog.jp/entry/2020/08/02/193536  \n",
    "http://ken-hayashi.com/%E3%80%90python%E5%85%A5%E9%96%80%E3%80%91%E3%82%B9%E3%82%AF%E3%83%AC%E3%82%A4%E3%83%94%E3%83%B3%E3%82%B0%E3%81%A7%E8%A4%87%E6%95%B0%E3%81%AEpdf%E3%83%87%E3%83%BC%E3%82%BF%E3%82%92%E3%83%80%E3%82%A6  "
   ]
  }
 ],
 "metadata": {
  "kernelspec": {
   "display_name": "Python 3",
   "language": "python",
   "name": "python3"
  },
  "language_info": {
   "codemirror_mode": {
    "name": "ipython",
    "version": 3
   },
   "file_extension": ".py",
   "mimetype": "text/x-python",
   "name": "python",
   "nbconvert_exporter": "python",
   "pygments_lexer": "ipython3",
   "version": "3.7.6"
  }
 },
 "nbformat": 4,
 "nbformat_minor": 4
}
